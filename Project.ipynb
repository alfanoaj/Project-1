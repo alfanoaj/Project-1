{
 "cells": [
  {
   "cell_type": "code",
   "execution_count": 1,
   "metadata": {},
   "outputs": [],
   "source": [
    "import pandas as pd"
   ]
  },
  {
   "cell_type": "code",
   "execution_count": 2,
   "metadata": {},
   "outputs": [],
   "source": [
    "KCPD_2016 = \"kcpd_2016.csv\"\n",
    "KCPD_2017 = \"kcpd_2017.csv\"\n",
    "kcpd_2016_df = pd.read_csv(KCPD_2016)\n",
    "kcpd_2017_df = pd.read_csv(KCPD_2017)"
   ]
  },
  {
   "cell_type": "code",
   "execution_count": 3,
   "metadata": {},
   "outputs": [],
   "source": [
    "total_crime = kcpd_2016_df.append(kcpd_2017_df)\n",
    "\n",
    "#for x in total_crime[\"From_Time\"]:\n",
    "#    total_crime[\"From_Time\"] = total_crime[\"From_Time\"].str.split(':').str[0]\n",
    "#    total_crime[\"From_Time\"] = (total_crime[\"From_Time\"] + \":00\")\n",
    "\n",
    "total_crime = total_crime.loc[:, [\"Description\", \"Firearm Used Flag\", \"From_Date\", \"From_Time\", \"Zip Code\"]]\n",
    "total_crime = total_crime.dropna(how='any')"
   ]
  },
  {
   "cell_type": "code",
   "execution_count": 4,
   "metadata": {},
   "outputs": [],
   "source": [
    "theft_df = total_crime.loc[total_crime[\"Description\"].isin(['Strong Arm Robbery', 'Armed Robbery', \n",
    "                           'Stealing Shoplifting', 'Stealing All Other', 'Burglary - Residence', 'Stealing From Auto', \n",
    "                           'Auto Theft', 'Burglary - Non Resid', 'Credit/Debit/ATM Car', 'Stealing Pickpocket', 'Auto Theft Outside S', 'Curfew'\n",
    "                           'Stealing Purse Snatc', 'Idenity Theft', 'Stealing Auto Parts/', 'Forged Checks', 'Stealing Coin Operat', \n",
    "                           'Fraud/Confidence Gam', 'Burg Res Occ', 'STEAL TFA', 'fraud', 'robbery', 'Welfare Fraud', 'Stealing Acc',\n",
    "                           'Stealing from uildi', 'strong armed robbery', 'counterfeiting', 'auto theft'])]\n",
    "\n",
    "violent_df = total_crime.loc[total_crime[\"Description\"].isin(['Agg Assault - Domest', 'Aggravated Assault (', 'Agg Assault - Drive-', \n",
    "                             'Non Agg Assault Dome', 'Non Aggravated Assau', 'Forcible Sodomy', 'HOMICIDE/Non Neglige',\n",
    "                             'Statutory Rape', 'Sexual Assault with', 'Rape', 'Forcible Fondling', 'NON AGG ASSAULT DV', \n",
    "                             'non agg assault','Hit and Run of a Per', 'Agg Assault Dome', 'agg dv assault', \n",
    "                             'Justifiable Homicide', 'Aggravated Assault'])]\n",
    "\n",
    "non_violent_df = total_crime.loc[total_crime[\"Description\"].isin(['Family Offense', 'Misc Violation', \n",
    "                                 'Property Damage', 'Violation Ex Parte O', 'Dead Body', 'Kidnapping/Abduction', \n",
    "                                 'Weapons Law Violatio', 'Wire Fraud', 'Possession/Sale/Dist', 'Possession of Drug E', \n",
    "                                 'Sex Off Fondle - mol', 'Violation Full Order', 'Identity Theft', 'Sex Off Misconduct', \n",
    "                                 'Driving Under Influe', 'Sex Offense -others', 'Interference with Cu', 'Family Disturbance',\n",
    "                                 'Resisting an Officer', 'Sex Off Indecent Con', 'Intimidation', 'Sex Off Follow/Entic',\n",
    "                                 'Sex Off Indecent Exp', 'Missing/Runaway Juve', 'Trespassing', 'Disorderly Conduct',\n",
    "                                 'Stolen Property OFFE', 'Arson', 'Stealing Bicycles', 'Pornography', 'Hacking/Computer Inv',\n",
    "                                 'False Information to', 'Liquor Law Violaton','Bomb Threat/Intimida', 'Extortion/Blackmail', \n",
    "                                 'Impersonation - NOT', 'Forgery', 'Loitering', 'Counterfeiting', 'Peeping Tom', 'Embezzlement',\n",
    "                                 'Promoting Prostituti', 'Prostitution/Solicit', 'Prostitution/Patroni', 'Passing Bad Checks',\n",
    "                                 'Casualty (includes a', 'Stalking', 'False ID', 'Failure to Return', 'Drunkenness', 'forgery', \n",
    "                                 'INTIMIDATE', 'Animal Cruelty', 'disorderly conduct', 'misc off', 'kidnapping', 'Arson with Fire Bomb'\n",
    "                                 'trespassing', 'Misc Viol(2601)', 'Vagrancy', 'broken window', 'property damage', \n",
    "                                 'Human Trafficking/Co', 'Sex Off Incest', 'MISSING PERSON'])]\n",
    "\n",
    "suicide_df = total_crime.loc[total_crime[\"Description\"].isin(['Attempt Suicide by O', 'Attempt Suicide by C', 'Attempt Suicide by H', 'Attempt Suicide by S',\n",
    "                             'Attempt Suicide by P', 'Suicide By Sleeping', 'Attempt Suicide by J', 'Suicide By Cutting', 'Attempt Suicide by G', \n",
    "                             'Suicide By Shooting', 'Suicide By Hanging', 'Suicide by Other Mea', 'Suicide - Domestic V'])]"
   ]
  },
  {
   "cell_type": "code",
   "execution_count": null,
   "metadata": {},
   "outputs": [],
   "source": []
  }
 ],
 "metadata": {
  "kernelspec": {
   "display_name": "Python [default]",
   "language": "python",
   "name": "python3"
  },
  "language_info": {
   "codemirror_mode": {
    "name": "ipython",
    "version": 3
   },
   "file_extension": ".py",
   "mimetype": "text/x-python",
   "name": "python",
   "nbconvert_exporter": "python",
   "pygments_lexer": "ipython3",
   "version": "3.6.4"
  }
 },
 "nbformat": 4,
 "nbformat_minor": 2
}
