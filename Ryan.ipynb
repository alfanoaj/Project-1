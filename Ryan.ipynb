{
 "cells": [
  {
   "cell_type": "code",
   "execution_count": 1,
   "metadata": {},
   "outputs": [],
   "source": [
    "import pandas as pd\n",
    "import datetime\n",
    "import numpy as np\n",
    "import matplotlib.pyplot as plt"
   ]
  },
  {
   "cell_type": "code",
   "execution_count": 2,
   "metadata": {},
   "outputs": [],
   "source": [
    "KCPD_2016 = \"kcpd_2016.csv\"\n",
    "KCPD_2017 = \"kcpd_2017.csv\"\n",
    "kcpd_2016_df = pd.read_csv(KCPD_2016)\n",
    "kcpd_2017_df = pd.read_csv(KCPD_2017)"
   ]
  },
  {
   "cell_type": "code",
   "execution_count": 3,
   "metadata": {},
   "outputs": [
    {
     "data": {
      "text/html": [
       "<div>\n",
       "<style scoped>\n",
       "    .dataframe tbody tr th:only-of-type {\n",
       "        vertical-align: middle;\n",
       "    }\n",
       "\n",
       "    .dataframe tbody tr th {\n",
       "        vertical-align: top;\n",
       "    }\n",
       "\n",
       "    .dataframe thead th {\n",
       "        text-align: right;\n",
       "    }\n",
       "</style>\n",
       "<table border=\"1\" class=\"dataframe\">\n",
       "  <thead>\n",
       "    <tr style=\"text-align: right;\">\n",
       "      <th></th>\n",
       "      <th>Description</th>\n",
       "      <th>Firearm Used Flag</th>\n",
       "      <th>From_Date</th>\n",
       "      <th>From_Time</th>\n",
       "      <th>Zip Code</th>\n",
       "    </tr>\n",
       "  </thead>\n",
       "  <tbody>\n",
       "    <tr>\n",
       "      <th>0</th>\n",
       "      <td>Aggravated Assault (</td>\n",
       "      <td>Y</td>\n",
       "      <td>12/25/2016</td>\n",
       "      <td>8:00</td>\n",
       "      <td>64134</td>\n",
       "    </tr>\n",
       "    <tr>\n",
       "      <th>1</th>\n",
       "      <td>Aggravated Assault (</td>\n",
       "      <td>Y</td>\n",
       "      <td>12/25/2016</td>\n",
       "      <td>8:00</td>\n",
       "      <td>64134</td>\n",
       "    </tr>\n",
       "    <tr>\n",
       "      <th>2</th>\n",
       "      <td>Armed Robbery</td>\n",
       "      <td>Y</td>\n",
       "      <td>12/25/2016</td>\n",
       "      <td>5:00</td>\n",
       "      <td>64133</td>\n",
       "    </tr>\n",
       "    <tr>\n",
       "      <th>3</th>\n",
       "      <td>Armed Robbery</td>\n",
       "      <td>Y</td>\n",
       "      <td>12/25/2016</td>\n",
       "      <td>5:00</td>\n",
       "      <td>64133</td>\n",
       "    </tr>\n",
       "    <tr>\n",
       "      <th>4</th>\n",
       "      <td>Armed Robbery</td>\n",
       "      <td>Y</td>\n",
       "      <td>12/25/2016</td>\n",
       "      <td>5:00</td>\n",
       "      <td>64133</td>\n",
       "    </tr>\n",
       "  </tbody>\n",
       "</table>\n",
       "</div>"
      ],
      "text/plain": [
       "            Description Firearm Used Flag   From_Date From_Time  Zip Code\n",
       "0  Aggravated Assault (                 Y  12/25/2016      8:00     64134\n",
       "1  Aggravated Assault (                 Y  12/25/2016      8:00     64134\n",
       "2         Armed Robbery                 Y  12/25/2016      5:00     64133\n",
       "3         Armed Robbery                 Y  12/25/2016      5:00     64133\n",
       "4         Armed Robbery                 Y  12/25/2016      5:00     64133"
      ]
     },
     "execution_count": 3,
     "metadata": {},
     "output_type": "execute_result"
    }
   ],
   "source": [
    "total_crime = kcpd_2016_df.append(kcpd_2017_df)\n",
    "\n",
    "\n",
    "#for x in total_crime[\"From_Time\"]:\n",
    "#    total_crime[\"From_Time\"] = total_crime[\"From_Time\"].str.split(':').str[0]\n",
    "#    total_crime[\"From_Time\"] = (total_crime[\"From_Time\"] + \":00\")\n",
    "\n",
    "total_crime = total_crime.loc[:, [\"Description\", \"Firearm Used Flag\", \"From_Date\", \"From_Time\", \"Zip Code\"]]\n",
    "total_crime = total_crime.dropna(how='any')\n",
    "total_crime.head()"
   ]
  },
  {
   "cell_type": "code",
   "execution_count": 4,
   "metadata": {},
   "outputs": [],
   "source": [
    "file1 = \"temperature.csv\"\n",
    "file2 = \"weather_description.csv\""
   ]
  },
  {
   "cell_type": "code",
   "execution_count": 5,
   "metadata": {},
   "outputs": [
    {
     "data": {
      "text/html": [
       "<div>\n",
       "<style scoped>\n",
       "    .dataframe tbody tr th:only-of-type {\n",
       "        vertical-align: middle;\n",
       "    }\n",
       "\n",
       "    .dataframe tbody tr th {\n",
       "        vertical-align: top;\n",
       "    }\n",
       "\n",
       "    .dataframe thead th {\n",
       "        text-align: right;\n",
       "    }\n",
       "</style>\n",
       "<table border=\"1\" class=\"dataframe\">\n",
       "  <thead>\n",
       "    <tr style=\"text-align: right;\">\n",
       "      <th></th>\n",
       "      <th>date</th>\n",
       "      <th>time</th>\n",
       "      <th>Kansas City</th>\n",
       "    </tr>\n",
       "  </thead>\n",
       "  <tbody>\n",
       "    <tr>\n",
       "      <th>0</th>\n",
       "      <td>10/1/2012</td>\n",
       "      <td>13:00</td>\n",
       "      <td>sky is clear</td>\n",
       "    </tr>\n",
       "    <tr>\n",
       "      <th>1</th>\n",
       "      <td>10/1/2012</td>\n",
       "      <td>14:00</td>\n",
       "      <td>sky is clear</td>\n",
       "    </tr>\n",
       "    <tr>\n",
       "      <th>2</th>\n",
       "      <td>10/1/2012</td>\n",
       "      <td>15:00</td>\n",
       "      <td>sky is clear</td>\n",
       "    </tr>\n",
       "    <tr>\n",
       "      <th>3</th>\n",
       "      <td>10/1/2012</td>\n",
       "      <td>16:00</td>\n",
       "      <td>sky is clear</td>\n",
       "    </tr>\n",
       "    <tr>\n",
       "      <th>4</th>\n",
       "      <td>10/1/2012</td>\n",
       "      <td>17:00</td>\n",
       "      <td>sky is clear</td>\n",
       "    </tr>\n",
       "  </tbody>\n",
       "</table>\n",
       "</div>"
      ],
      "text/plain": [
       "        date   time   Kansas City\n",
       "0  10/1/2012  13:00  sky is clear\n",
       "1  10/1/2012  14:00  sky is clear\n",
       "2  10/1/2012  15:00  sky is clear\n",
       "3  10/1/2012  16:00  sky is clear\n",
       "4  10/1/2012  17:00  sky is clear"
      ]
     },
     "execution_count": 5,
     "metadata": {},
     "output_type": "execute_result"
    }
   ],
   "source": [
    "temp_df = pd.read_csv(file1)\n",
    "condition_df = pd.read_csv(file2)\n",
    "condition_df.head()"
   ]
  },
  {
   "cell_type": "code",
   "execution_count": 6,
   "metadata": {},
   "outputs": [
    {
     "data": {
      "text/html": [
       "<div>\n",
       "<style scoped>\n",
       "    .dataframe tbody tr th:only-of-type {\n",
       "        vertical-align: middle;\n",
       "    }\n",
       "\n",
       "    .dataframe tbody tr th {\n",
       "        vertical-align: top;\n",
       "    }\n",
       "\n",
       "    .dataframe thead th {\n",
       "        text-align: right;\n",
       "    }\n",
       "</style>\n",
       "<table border=\"1\" class=\"dataframe\">\n",
       "  <thead>\n",
       "    <tr style=\"text-align: right;\">\n",
       "      <th></th>\n",
       "      <th>date</th>\n",
       "      <th>time</th>\n",
       "      <th>Kansas City</th>\n",
       "    </tr>\n",
       "  </thead>\n",
       "  <tbody>\n",
       "    <tr>\n",
       "      <th>0</th>\n",
       "      <td>10/1/2012</td>\n",
       "      <td>13:00</td>\n",
       "      <td>289.980000</td>\n",
       "    </tr>\n",
       "    <tr>\n",
       "      <th>1</th>\n",
       "      <td>10/1/2012</td>\n",
       "      <td>14:00</td>\n",
       "      <td>289.997635</td>\n",
       "    </tr>\n",
       "    <tr>\n",
       "      <th>2</th>\n",
       "      <td>10/1/2012</td>\n",
       "      <td>15:00</td>\n",
       "      <td>290.038151</td>\n",
       "    </tr>\n",
       "    <tr>\n",
       "      <th>3</th>\n",
       "      <td>10/1/2012</td>\n",
       "      <td>16:00</td>\n",
       "      <td>290.078666</td>\n",
       "    </tr>\n",
       "    <tr>\n",
       "      <th>4</th>\n",
       "      <td>10/1/2012</td>\n",
       "      <td>17:00</td>\n",
       "      <td>290.119181</td>\n",
       "    </tr>\n",
       "  </tbody>\n",
       "</table>\n",
       "</div>"
      ],
      "text/plain": [
       "        date   time  Kansas City\n",
       "0  10/1/2012  13:00   289.980000\n",
       "1  10/1/2012  14:00   289.997635\n",
       "2  10/1/2012  15:00   290.038151\n",
       "3  10/1/2012  16:00   290.078666\n",
       "4  10/1/2012  17:00   290.119181"
      ]
     },
     "execution_count": 6,
     "metadata": {},
     "output_type": "execute_result"
    }
   ],
   "source": [
    "temp_df.head()"
   ]
  },
  {
   "cell_type": "code",
   "execution_count": 7,
   "metadata": {},
   "outputs": [
    {
     "data": {
      "text/plain": [
       "45252"
      ]
     },
     "execution_count": 7,
     "metadata": {},
     "output_type": "execute_result"
    }
   ],
   "source": [
    "len(temp_df[\"Kansas City\"])"
   ]
  },
  {
   "cell_type": "code",
   "execution_count": 8,
   "metadata": {},
   "outputs": [
    {
     "data": {
      "text/plain": [
       "45252"
      ]
     },
     "execution_count": 8,
     "metadata": {},
     "output_type": "execute_result"
    }
   ],
   "source": [
    "len(condition_df[\"Kansas City\"])"
   ]
  },
  {
   "cell_type": "code",
   "execution_count": 9,
   "metadata": {},
   "outputs": [
    {
     "data": {
      "text/html": [
       "<div>\n",
       "<style scoped>\n",
       "    .dataframe tbody tr th:only-of-type {\n",
       "        vertical-align: middle;\n",
       "    }\n",
       "\n",
       "    .dataframe tbody tr th {\n",
       "        vertical-align: top;\n",
       "    }\n",
       "\n",
       "    .dataframe thead th {\n",
       "        text-align: right;\n",
       "    }\n",
       "</style>\n",
       "<table border=\"1\" class=\"dataframe\">\n",
       "  <thead>\n",
       "    <tr style=\"text-align: right;\">\n",
       "      <th></th>\n",
       "      <th>date</th>\n",
       "      <th>time</th>\n",
       "      <th>Temperature (K)</th>\n",
       "    </tr>\n",
       "  </thead>\n",
       "  <tbody>\n",
       "    <tr>\n",
       "      <th>0</th>\n",
       "      <td>10/1/2012</td>\n",
       "      <td>13:00</td>\n",
       "      <td>289.980000</td>\n",
       "    </tr>\n",
       "    <tr>\n",
       "      <th>1</th>\n",
       "      <td>10/1/2012</td>\n",
       "      <td>14:00</td>\n",
       "      <td>289.997635</td>\n",
       "    </tr>\n",
       "    <tr>\n",
       "      <th>2</th>\n",
       "      <td>10/1/2012</td>\n",
       "      <td>15:00</td>\n",
       "      <td>290.038151</td>\n",
       "    </tr>\n",
       "    <tr>\n",
       "      <th>3</th>\n",
       "      <td>10/1/2012</td>\n",
       "      <td>16:00</td>\n",
       "      <td>290.078666</td>\n",
       "    </tr>\n",
       "    <tr>\n",
       "      <th>4</th>\n",
       "      <td>10/1/2012</td>\n",
       "      <td>17:00</td>\n",
       "      <td>290.119181</td>\n",
       "    </tr>\n",
       "  </tbody>\n",
       "</table>\n",
       "</div>"
      ],
      "text/plain": [
       "        date   time  Temperature (K)\n",
       "0  10/1/2012  13:00       289.980000\n",
       "1  10/1/2012  14:00       289.997635\n",
       "2  10/1/2012  15:00       290.038151\n",
       "3  10/1/2012  16:00       290.078666\n",
       "4  10/1/2012  17:00       290.119181"
      ]
     },
     "execution_count": 9,
     "metadata": {},
     "output_type": "execute_result"
    }
   ],
   "source": [
    "kc_temp = pd.DataFrame(temp_df[\"date\"])\n",
    "kc_temp[\"time\"] = temp_df[\"time\"]\n",
    "kc_temp[\"Temperature (K)\"] = temp_df[\"Kansas City\"]\n",
    "kc_temp.head()"
   ]
  },
  {
   "cell_type": "code",
   "execution_count": 10,
   "metadata": {},
   "outputs": [
    {
     "data": {
      "text/html": [
       "<div>\n",
       "<style scoped>\n",
       "    .dataframe tbody tr th:only-of-type {\n",
       "        vertical-align: middle;\n",
       "    }\n",
       "\n",
       "    .dataframe tbody tr th {\n",
       "        vertical-align: top;\n",
       "    }\n",
       "\n",
       "    .dataframe thead th {\n",
       "        text-align: right;\n",
       "    }\n",
       "</style>\n",
       "<table border=\"1\" class=\"dataframe\">\n",
       "  <thead>\n",
       "    <tr style=\"text-align: right;\">\n",
       "      <th></th>\n",
       "      <th>date</th>\n",
       "      <th>time</th>\n",
       "      <th>Condition</th>\n",
       "    </tr>\n",
       "  </thead>\n",
       "  <tbody>\n",
       "    <tr>\n",
       "      <th>0</th>\n",
       "      <td>10/1/2012</td>\n",
       "      <td>13:00</td>\n",
       "      <td>sky is clear</td>\n",
       "    </tr>\n",
       "    <tr>\n",
       "      <th>1</th>\n",
       "      <td>10/1/2012</td>\n",
       "      <td>14:00</td>\n",
       "      <td>sky is clear</td>\n",
       "    </tr>\n",
       "    <tr>\n",
       "      <th>2</th>\n",
       "      <td>10/1/2012</td>\n",
       "      <td>15:00</td>\n",
       "      <td>sky is clear</td>\n",
       "    </tr>\n",
       "    <tr>\n",
       "      <th>3</th>\n",
       "      <td>10/1/2012</td>\n",
       "      <td>16:00</td>\n",
       "      <td>sky is clear</td>\n",
       "    </tr>\n",
       "    <tr>\n",
       "      <th>4</th>\n",
       "      <td>10/1/2012</td>\n",
       "      <td>17:00</td>\n",
       "      <td>sky is clear</td>\n",
       "    </tr>\n",
       "  </tbody>\n",
       "</table>\n",
       "</div>"
      ],
      "text/plain": [
       "        date   time     Condition\n",
       "0  10/1/2012  13:00  sky is clear\n",
       "1  10/1/2012  14:00  sky is clear\n",
       "2  10/1/2012  15:00  sky is clear\n",
       "3  10/1/2012  16:00  sky is clear\n",
       "4  10/1/2012  17:00  sky is clear"
      ]
     },
     "execution_count": 10,
     "metadata": {},
     "output_type": "execute_result"
    }
   ],
   "source": [
    "kc_cond = pd.DataFrame(condition_df[\"date\"])\n",
    "kc_cond[\"time\"] = condition_df[\"time\"]\n",
    "kc_cond[\"Condition\"] = condition_df[\"Kansas City\"]\n",
    "kc_cond.head()"
   ]
  },
  {
   "cell_type": "code",
   "execution_count": 11,
   "metadata": {},
   "outputs": [
    {
     "data": {
      "text/html": [
       "<div>\n",
       "<style scoped>\n",
       "    .dataframe tbody tr th:only-of-type {\n",
       "        vertical-align: middle;\n",
       "    }\n",
       "\n",
       "    .dataframe tbody tr th {\n",
       "        vertical-align: top;\n",
       "    }\n",
       "\n",
       "    .dataframe thead th {\n",
       "        text-align: right;\n",
       "    }\n",
       "</style>\n",
       "<table border=\"1\" class=\"dataframe\">\n",
       "  <thead>\n",
       "    <tr style=\"text-align: right;\">\n",
       "      <th></th>\n",
       "      <th>date</th>\n",
       "      <th>time</th>\n",
       "      <th>Temperature (K)</th>\n",
       "      <th>Condition</th>\n",
       "    </tr>\n",
       "  </thead>\n",
       "  <tbody>\n",
       "    <tr>\n",
       "      <th>0</th>\n",
       "      <td>10/1/2012</td>\n",
       "      <td>13:00</td>\n",
       "      <td>289.980000</td>\n",
       "      <td>sky is clear</td>\n",
       "    </tr>\n",
       "    <tr>\n",
       "      <th>1</th>\n",
       "      <td>10/1/2012</td>\n",
       "      <td>14:00</td>\n",
       "      <td>289.997635</td>\n",
       "      <td>sky is clear</td>\n",
       "    </tr>\n",
       "    <tr>\n",
       "      <th>2</th>\n",
       "      <td>10/1/2012</td>\n",
       "      <td>15:00</td>\n",
       "      <td>290.038151</td>\n",
       "      <td>sky is clear</td>\n",
       "    </tr>\n",
       "    <tr>\n",
       "      <th>3</th>\n",
       "      <td>10/1/2012</td>\n",
       "      <td>16:00</td>\n",
       "      <td>290.078666</td>\n",
       "      <td>sky is clear</td>\n",
       "    </tr>\n",
       "    <tr>\n",
       "      <th>4</th>\n",
       "      <td>10/1/2012</td>\n",
       "      <td>17:00</td>\n",
       "      <td>290.119181</td>\n",
       "      <td>sky is clear</td>\n",
       "    </tr>\n",
       "  </tbody>\n",
       "</table>\n",
       "</div>"
      ],
      "text/plain": [
       "        date   time  Temperature (K)     Condition\n",
       "0  10/1/2012  13:00       289.980000  sky is clear\n",
       "1  10/1/2012  14:00       289.997635  sky is clear\n",
       "2  10/1/2012  15:00       290.038151  sky is clear\n",
       "3  10/1/2012  16:00       290.078666  sky is clear\n",
       "4  10/1/2012  17:00       290.119181  sky is clear"
      ]
     },
     "execution_count": 11,
     "metadata": {},
     "output_type": "execute_result"
    }
   ],
   "source": [
    "kc_df = pd.merge(kc_temp, kc_cond, left_on=[\"date\", \"time\"], right_on=[\"date\", \"time\"])\n",
    "kc_df.head()"
   ]
  },
  {
   "cell_type": "code",
   "execution_count": 12,
   "metadata": {},
   "outputs": [
    {
     "data": {
      "text/html": [
       "<div>\n",
       "<style scoped>\n",
       "    .dataframe tbody tr th:only-of-type {\n",
       "        vertical-align: middle;\n",
       "    }\n",
       "\n",
       "    .dataframe tbody tr th {\n",
       "        vertical-align: top;\n",
       "    }\n",
       "\n",
       "    .dataframe thead th {\n",
       "        text-align: right;\n",
       "    }\n",
       "</style>\n",
       "<table border=\"1\" class=\"dataframe\">\n",
       "  <thead>\n",
       "    <tr style=\"text-align: right;\">\n",
       "      <th></th>\n",
       "      <th>date</th>\n",
       "      <th>time</th>\n",
       "      <th>Temperature (K)</th>\n",
       "      <th>Condition</th>\n",
       "    </tr>\n",
       "  </thead>\n",
       "  <tbody>\n",
       "    <tr>\n",
       "      <th>28475</th>\n",
       "      <td>2016-01-01</td>\n",
       "      <td>0:00</td>\n",
       "      <td>273.790000</td>\n",
       "      <td>sky is clear</td>\n",
       "    </tr>\n",
       "    <tr>\n",
       "      <th>28476</th>\n",
       "      <td>2016-01-01</td>\n",
       "      <td>1:00</td>\n",
       "      <td>273.731449</td>\n",
       "      <td>sky is clear</td>\n",
       "    </tr>\n",
       "    <tr>\n",
       "      <th>28477</th>\n",
       "      <td>2016-01-01</td>\n",
       "      <td>2:00</td>\n",
       "      <td>269.429724</td>\n",
       "      <td>sky is clear</td>\n",
       "    </tr>\n",
       "    <tr>\n",
       "      <th>28478</th>\n",
       "      <td>2016-01-01</td>\n",
       "      <td>3:00</td>\n",
       "      <td>271.920000</td>\n",
       "      <td>sky is clear</td>\n",
       "    </tr>\n",
       "    <tr>\n",
       "      <th>28479</th>\n",
       "      <td>2016-01-01</td>\n",
       "      <td>4:00</td>\n",
       "      <td>271.030000</td>\n",
       "      <td>sky is clear</td>\n",
       "    </tr>\n",
       "  </tbody>\n",
       "</table>\n",
       "</div>"
      ],
      "text/plain": [
       "            date  time  Temperature (K)     Condition\n",
       "28475 2016-01-01  0:00       273.790000  sky is clear\n",
       "28476 2016-01-01  1:00       273.731449  sky is clear\n",
       "28477 2016-01-01  2:00       269.429724  sky is clear\n",
       "28478 2016-01-01  3:00       271.920000  sky is clear\n",
       "28479 2016-01-01  4:00       271.030000  sky is clear"
      ]
     },
     "execution_count": 12,
     "metadata": {},
     "output_type": "execute_result"
    }
   ],
   "source": [
    "kc_weather = kc_df[(kc_df[\"date\"] > \"11/10/2014\")]\n",
    "kc_df['date'] = pd.to_datetime(kc_df['date'])\n",
    "kc_weather = (kc_df[\"date\"] > \"12/31/2015\")\n",
    "kc_df = kc_df.loc[kc_weather]\n",
    "kc_df.head()\n",
    "#kc_weather.dtypes\n",
    "#kc_weather.head()"
   ]
  },
  {
   "cell_type": "code",
   "execution_count": 13,
   "metadata": {},
   "outputs": [],
   "source": [
    "kc_df[\"Temperature (F)\"] = (1.8*(kc_df[\"Temperature (K)\"]-273)+32)"
   ]
  },
  {
   "cell_type": "code",
   "execution_count": 14,
   "metadata": {},
   "outputs": [
    {
     "data": {
      "text/html": [
       "<div>\n",
       "<style scoped>\n",
       "    .dataframe tbody tr th:only-of-type {\n",
       "        vertical-align: middle;\n",
       "    }\n",
       "\n",
       "    .dataframe tbody tr th {\n",
       "        vertical-align: top;\n",
       "    }\n",
       "\n",
       "    .dataframe thead th {\n",
       "        text-align: right;\n",
       "    }\n",
       "</style>\n",
       "<table border=\"1\" class=\"dataframe\">\n",
       "  <thead>\n",
       "    <tr style=\"text-align: right;\">\n",
       "      <th></th>\n",
       "      <th>date</th>\n",
       "      <th>time</th>\n",
       "      <th>Condition</th>\n",
       "      <th>Temperature (F)</th>\n",
       "    </tr>\n",
       "  </thead>\n",
       "  <tbody>\n",
       "    <tr>\n",
       "      <th>28475</th>\n",
       "      <td>2016-01-01</td>\n",
       "      <td>0:00</td>\n",
       "      <td>sky is clear</td>\n",
       "      <td>33.422000</td>\n",
       "    </tr>\n",
       "    <tr>\n",
       "      <th>28476</th>\n",
       "      <td>2016-01-01</td>\n",
       "      <td>1:00</td>\n",
       "      <td>sky is clear</td>\n",
       "      <td>33.316608</td>\n",
       "    </tr>\n",
       "    <tr>\n",
       "      <th>28477</th>\n",
       "      <td>2016-01-01</td>\n",
       "      <td>2:00</td>\n",
       "      <td>sky is clear</td>\n",
       "      <td>25.573504</td>\n",
       "    </tr>\n",
       "    <tr>\n",
       "      <th>28478</th>\n",
       "      <td>2016-01-01</td>\n",
       "      <td>3:00</td>\n",
       "      <td>sky is clear</td>\n",
       "      <td>30.056000</td>\n",
       "    </tr>\n",
       "    <tr>\n",
       "      <th>28479</th>\n",
       "      <td>2016-01-01</td>\n",
       "      <td>4:00</td>\n",
       "      <td>sky is clear</td>\n",
       "      <td>28.454000</td>\n",
       "    </tr>\n",
       "  </tbody>\n",
       "</table>\n",
       "</div>"
      ],
      "text/plain": [
       "            date  time     Condition  Temperature (F)\n",
       "28475 2016-01-01  0:00  sky is clear        33.422000\n",
       "28476 2016-01-01  1:00  sky is clear        33.316608\n",
       "28477 2016-01-01  2:00  sky is clear        25.573504\n",
       "28478 2016-01-01  3:00  sky is clear        30.056000\n",
       "28479 2016-01-01  4:00  sky is clear        28.454000"
      ]
     },
     "execution_count": 14,
     "metadata": {},
     "output_type": "execute_result"
    }
   ],
   "source": [
    "del kc_df[\"Temperature (K)\"]\n",
    "kc_df.head()"
   ]
  },
  {
   "cell_type": "code",
   "execution_count": 15,
   "metadata": {},
   "outputs": [
    {
     "data": {
      "text/plain": [
       "array(['sky is clear', 'light rain', 'scattered clouds',\n",
       "       'overcast clouds', 'broken clouds', 'few clouds',\n",
       "       'light intensity drizzle', 'mist', 'light snow', 'moderate rain',\n",
       "       'haze', 'snow', 'shower drizzle', 'heavy intensity rain',\n",
       "       'squalls', 'thunderstorm with heavy rain', 'fog',\n",
       "       'proximity thunderstorm', 'thunderstorm with light rain',\n",
       "       'thunderstorm', 'very heavy rain', 'drizzle',\n",
       "       'proximity shower rain', 'shower rain',\n",
       "       'light intensity shower rain', 'heavy intensity shower rain',\n",
       "       'freezing rain', 'thunderstorm with rain'], dtype=object)"
      ]
     },
     "execution_count": 15,
     "metadata": {},
     "output_type": "execute_result"
    }
   ],
   "source": [
    "kc_df[\"Condition\"].unique()"
   ]
  },
  {
   "cell_type": "code",
   "execution_count": 16,
   "metadata": {},
   "outputs": [],
   "source": [
    "category = {'sky is clear' : 'clear', 'light rain' : 'rain', 'scattered clouds' : 'clear',\n",
    "       'overcast clouds' : 'clear', 'broken clouds' : 'clear', 'few clouds' : 'clear',\n",
    "       'light intensity drizzle' : 'rain', 'mist' : 'rain', 'light snow' : 'snow', 'moderate rain' : 'rain',\n",
    "       'haze' : 'other', 'snow' : 'snow', 'shower drizzle' : 'rain', 'heavy intensity rain' : 'rain',\n",
    "       'squalls' : 'rain', 'thunderstorm with heavy rain':'rain', 'fog': 'other',\n",
    "       'proximity thunderstorm': 'rain', 'thunderstorm with light rain':'rain',\n",
    "       'thunderstorm':'rain', 'very heavy rain':'rain', 'drizzle':'rain',\n",
    "       'proximity shower rain':'rain', 'shower rain':'rain',\n",
    "       'light intensity shower rain':'rain', 'heavy intensity shower rain':'rain',\n",
    "       'freezing rain':'rain', 'thunderstorm with rain':'rain', 'heavy snow':\"snow\", 'smoke':'other'}"
   ]
  },
  {
   "cell_type": "code",
   "execution_count": 17,
   "metadata": {},
   "outputs": [],
   "source": [
    "condition_list = []\n",
    "\n",
    "for index, row in kc_df.iterrows():\n",
    "    condition_list.append(category[row['Condition']])"
   ]
  },
  {
   "cell_type": "code",
   "execution_count": 18,
   "metadata": {},
   "outputs": [],
   "source": [
    "kc_df[\"classification\"] = condition_list"
   ]
  },
  {
   "cell_type": "code",
   "execution_count": 19,
   "metadata": {
    "scrolled": true
   },
   "outputs": [
    {
     "data": {
      "text/html": [
       "<div>\n",
       "<style scoped>\n",
       "    .dataframe tbody tr th:only-of-type {\n",
       "        vertical-align: middle;\n",
       "    }\n",
       "\n",
       "    .dataframe tbody tr th {\n",
       "        vertical-align: top;\n",
       "    }\n",
       "\n",
       "    .dataframe thead th {\n",
       "        text-align: right;\n",
       "    }\n",
       "</style>\n",
       "<table border=\"1\" class=\"dataframe\">\n",
       "  <thead>\n",
       "    <tr style=\"text-align: right;\">\n",
       "      <th></th>\n",
       "      <th>date</th>\n",
       "      <th>time</th>\n",
       "      <th>Condition</th>\n",
       "      <th>Temperature (F)</th>\n",
       "      <th>classification</th>\n",
       "    </tr>\n",
       "  </thead>\n",
       "  <tbody>\n",
       "    <tr>\n",
       "      <th>28475</th>\n",
       "      <td>2016-01-01</td>\n",
       "      <td>0:00</td>\n",
       "      <td>sky is clear</td>\n",
       "      <td>33.422000</td>\n",
       "      <td>clear</td>\n",
       "    </tr>\n",
       "    <tr>\n",
       "      <th>28476</th>\n",
       "      <td>2016-01-01</td>\n",
       "      <td>1:00</td>\n",
       "      <td>sky is clear</td>\n",
       "      <td>33.316608</td>\n",
       "      <td>clear</td>\n",
       "    </tr>\n",
       "    <tr>\n",
       "      <th>28477</th>\n",
       "      <td>2016-01-01</td>\n",
       "      <td>2:00</td>\n",
       "      <td>sky is clear</td>\n",
       "      <td>25.573504</td>\n",
       "      <td>clear</td>\n",
       "    </tr>\n",
       "    <tr>\n",
       "      <th>28478</th>\n",
       "      <td>2016-01-01</td>\n",
       "      <td>3:00</td>\n",
       "      <td>sky is clear</td>\n",
       "      <td>30.056000</td>\n",
       "      <td>clear</td>\n",
       "    </tr>\n",
       "    <tr>\n",
       "      <th>28479</th>\n",
       "      <td>2016-01-01</td>\n",
       "      <td>4:00</td>\n",
       "      <td>sky is clear</td>\n",
       "      <td>28.454000</td>\n",
       "      <td>clear</td>\n",
       "    </tr>\n",
       "  </tbody>\n",
       "</table>\n",
       "</div>"
      ],
      "text/plain": [
       "            date  time     Condition  Temperature (F) classification\n",
       "28475 2016-01-01  0:00  sky is clear        33.422000          clear\n",
       "28476 2016-01-01  1:00  sky is clear        33.316608          clear\n",
       "28477 2016-01-01  2:00  sky is clear        25.573504          clear\n",
       "28478 2016-01-01  3:00  sky is clear        30.056000          clear\n",
       "28479 2016-01-01  4:00  sky is clear        28.454000          clear"
      ]
     },
     "execution_count": 19,
     "metadata": {},
     "output_type": "execute_result"
    }
   ],
   "source": [
    "kc_df.head()"
   ]
  },
  {
   "cell_type": "code",
   "execution_count": 20,
   "metadata": {},
   "outputs": [],
   "source": [
    "total_crime['From_Date'] = pd.to_datetime(total_crime['From_Date'])\n",
    "\n"
   ]
  },
  {
   "cell_type": "code",
   "execution_count": 21,
   "metadata": {},
   "outputs": [
    {
     "data": {
      "text/html": [
       "<div>\n",
       "<style scoped>\n",
       "    .dataframe tbody tr th:only-of-type {\n",
       "        vertical-align: middle;\n",
       "    }\n",
       "\n",
       "    .dataframe tbody tr th {\n",
       "        vertical-align: top;\n",
       "    }\n",
       "\n",
       "    .dataframe thead th {\n",
       "        text-align: right;\n",
       "    }\n",
       "</style>\n",
       "<table border=\"1\" class=\"dataframe\">\n",
       "  <thead>\n",
       "    <tr style=\"text-align: right;\">\n",
       "      <th></th>\n",
       "      <th>Description</th>\n",
       "      <th>Firearm Used Flag</th>\n",
       "      <th>From_Date</th>\n",
       "      <th>From_Time</th>\n",
       "      <th>Zip Code</th>\n",
       "      <th>date</th>\n",
       "      <th>time</th>\n",
       "      <th>Condition</th>\n",
       "      <th>Temperature (F)</th>\n",
       "      <th>classification</th>\n",
       "    </tr>\n",
       "  </thead>\n",
       "  <tbody>\n",
       "    <tr>\n",
       "      <th>0</th>\n",
       "      <td>Aggravated Assault (</td>\n",
       "      <td>Y</td>\n",
       "      <td>2016-12-25</td>\n",
       "      <td>8:00</td>\n",
       "      <td>64134</td>\n",
       "      <td>2016-12-25</td>\n",
       "      <td>8:00</td>\n",
       "      <td>mist</td>\n",
       "      <td>40.694</td>\n",
       "      <td>rain</td>\n",
       "    </tr>\n",
       "    <tr>\n",
       "      <th>1</th>\n",
       "      <td>Aggravated Assault (</td>\n",
       "      <td>Y</td>\n",
       "      <td>2016-12-25</td>\n",
       "      <td>8:00</td>\n",
       "      <td>64134</td>\n",
       "      <td>2016-12-25</td>\n",
       "      <td>8:00</td>\n",
       "      <td>mist</td>\n",
       "      <td>40.694</td>\n",
       "      <td>rain</td>\n",
       "    </tr>\n",
       "    <tr>\n",
       "      <th>2</th>\n",
       "      <td>Aggravated Assault (</td>\n",
       "      <td>Y</td>\n",
       "      <td>2016-12-25</td>\n",
       "      <td>8:00</td>\n",
       "      <td>64134</td>\n",
       "      <td>2016-12-25</td>\n",
       "      <td>8:00</td>\n",
       "      <td>mist</td>\n",
       "      <td>40.694</td>\n",
       "      <td>rain</td>\n",
       "    </tr>\n",
       "    <tr>\n",
       "      <th>3</th>\n",
       "      <td>Aggravated Assault (</td>\n",
       "      <td>Y</td>\n",
       "      <td>2016-12-25</td>\n",
       "      <td>8:00</td>\n",
       "      <td>64134</td>\n",
       "      <td>2016-12-25</td>\n",
       "      <td>8:00</td>\n",
       "      <td>mist</td>\n",
       "      <td>40.694</td>\n",
       "      <td>rain</td>\n",
       "    </tr>\n",
       "    <tr>\n",
       "      <th>4</th>\n",
       "      <td>Possession/Sale/Dist</td>\n",
       "      <td>N</td>\n",
       "      <td>2016-12-25</td>\n",
       "      <td>8:00</td>\n",
       "      <td>64110</td>\n",
       "      <td>2016-12-25</td>\n",
       "      <td>8:00</td>\n",
       "      <td>mist</td>\n",
       "      <td>40.694</td>\n",
       "      <td>rain</td>\n",
       "    </tr>\n",
       "  </tbody>\n",
       "</table>\n",
       "</div>"
      ],
      "text/plain": [
       "            Description Firearm Used Flag  From_Date From_Time  Zip Code  \\\n",
       "0  Aggravated Assault (                 Y 2016-12-25      8:00     64134   \n",
       "1  Aggravated Assault (                 Y 2016-12-25      8:00     64134   \n",
       "2  Aggravated Assault (                 Y 2016-12-25      8:00     64134   \n",
       "3  Aggravated Assault (                 Y 2016-12-25      8:00     64134   \n",
       "4  Possession/Sale/Dist                 N 2016-12-25      8:00     64110   \n",
       "\n",
       "        date  time Condition  Temperature (F) classification  \n",
       "0 2016-12-25  8:00      mist           40.694           rain  \n",
       "1 2016-12-25  8:00      mist           40.694           rain  \n",
       "2 2016-12-25  8:00      mist           40.694           rain  \n",
       "3 2016-12-25  8:00      mist           40.694           rain  \n",
       "4 2016-12-25  8:00      mist           40.694           rain  "
      ]
     },
     "execution_count": 21,
     "metadata": {},
     "output_type": "execute_result"
    }
   ],
   "source": [
    "merge_df = pd.merge(total_crime, kc_df, left_on=[\"From_Date\", \"From_Time\"], right_on=[\"date\", \"time\"])\n",
    "merge_df.head()"
   ]
  },
  {
   "cell_type": "code",
   "execution_count": 22,
   "metadata": {},
   "outputs": [],
   "source": [
    "clear_weather_df = kc_df.loc[kc_df[\"classification\"] == \"clear\"]\n",
    "rainy_weather_df = kc_df.loc[kc_df[\"classification\"] == \"rain\"]\n",
    "snowy_weather_df = kc_df.loc[kc_df[\"classification\"] == \"snow\"]\n",
    "other_weather_df = kc_df.loc[kc_df[\"classification\"] == \"other\"]"
   ]
  },
  {
   "cell_type": "code",
   "execution_count": 23,
   "metadata": {},
   "outputs": [],
   "source": [
    "theft_df = merge_df.loc[merge_df[\"Description\"].isin(['Strong Arm Robbery', 'Armed Robbery', \n",
    "                           'Stealing Shoplifting', 'Stealing All Other', 'Burglary - Residence', 'Stealing From Auto', \n",
    "                           'Auto Theft', 'Burglary - Non Resid', 'Credit/Debit/ATM Car', 'Stealing Pickpocket', 'Auto Theft Outside S', 'Curfew'\n",
    "                           'Stealing Purse Snatc', 'Idenity Theft', 'Stealing Auto Parts/', 'Forged Checks', 'Stealing Coin Operat', \n",
    "                           'Fraud/Confidence Gam', 'Burg Res Occ', 'STEAL TFA', 'fraud', 'robbery', 'Welfare Fraud', 'Stealing Acc',\n",
    "                           'Stealing from uildi', 'strong armed robbery', 'counterfeiting', 'auto theft'])]\n",
    "\n",
    "violent_df = merge_df.loc[merge_df[\"Description\"].isin(['Agg Assault - Domest', 'Aggravated Assault (', 'Agg Assault - Drive-', \n",
    "                             'Non Agg Assault Dome', 'Non Aggravated Assau', 'Forcible Sodomy', 'HOMICIDE/Non Neglige',\n",
    "                             'Statutory Rape', 'Sexual Assault with', 'Rape', 'Forcible Fondling', 'NON AGG ASSAULT DV', \n",
    "                             'non agg assault','Hit and Run of a Per', 'Agg Assault Dome', 'agg dv assault', \n",
    "                             'Justifiable Homicide', 'Aggravated Assault'])]\n",
    "\n",
    "non_violent_df = merge_df.loc[merge_df[\"Description\"].isin(['Family Offense', 'Misc Violation', \n",
    "                                 'Property Damage', 'Violation Ex Parte O', 'Dead Body', 'Kidnapping/Abduction', \n",
    "                                 'Weapons Law Violatio', 'Wire Fraud', 'Possession/Sale/Dist', 'Possession of Drug E', \n",
    "                                 'Sex Off Fondle - mol', 'Violation Full Order', 'Identity Theft', 'Sex Off Misconduct', \n",
    "                                 'Driving Under Influe', 'Sex Offense -others', 'Interference with Cu', 'Family Disturbance',\n",
    "                                 'Resisting an Officer', 'Sex Off Indecent Con', 'Intimidation', 'Sex Off Follow/Entic',\n",
    "                                 'Sex Off Indecent Exp', 'Missing/Runaway Juve', 'Trespassing', 'Disorderly Conduct',\n",
    "                                 'Stolen Property OFFE', 'Arson', 'Stealing Bicycles', 'Pornography', 'Hacking/Computer Inv',\n",
    "                                 'False Information to', 'Liquor Law Violaton','Bomb Threat/Intimida', 'Extortion/Blackmail', \n",
    "                                 'Impersonation - NOT', 'Forgery', 'Loitering', 'Counterfeiting', 'Peeping Tom', 'Embezzlement',\n",
    "                                 'Promoting Prostituti', 'Prostitution/Solicit', 'Prostitution/Patroni', 'Passing Bad Checks',\n",
    "                                 'Casualty (includes a', 'Stalking', 'False ID', 'Failure to Return', 'Drunkenness', 'forgery', \n",
    "                                 'INTIMIDATE', 'Animal Cruelty', 'disorderly conduct', 'misc off', 'kidnapping', 'Arson with Fire Bomb'\n",
    "                                 'trespassing', 'Misc Viol(2601)', 'Vagrancy', 'broken window', 'property damage', \n",
    "                                 'Human Trafficking/Co', 'Sex Off Incest', 'MISSING PERSON'])]\n",
    "\n",
    "suicide_df = merge_df.loc[merge_df[\"Description\"].isin(['Attempt Suicide by O', 'Attempt Suicide by C', 'Attempt Suicide by H', 'Attempt Suicide by S',\n",
    "                             'Attempt Suicide by P', 'Suicide By Sleeping', 'Attempt Suicide by J', 'Suicide By Cutting', 'Attempt Suicide by G', \n",
    "                             'Suicide By Shooting', 'Suicide By Hanging', 'Suicide by Other Mea', 'Suicide - Domestic V'])]\n",
    "\n",
    "theft_df_no_weather = total_crime.loc[total_crime[\"Description\"].isin(['Strong Arm Robbery', 'Armed Robbery', \n",
    "                           'Stealing Shoplifting', 'Stealing All Other', 'Burglary - Residence', 'Stealing From Auto', \n",
    "                           'Auto Theft', 'Burglary - Non Resid', 'Credit/Debit/ATM Car', 'Stealing Pickpocket', 'Auto Theft Outside S', 'Curfew'\n",
    "                           'Stealing Purse Snatc', 'Idenity Theft', 'Stealing Auto Parts/', 'Forged Checks', 'Stealing Coin Operat', \n",
    "                           'Fraud/Confidence Gam', 'Burg Res Occ', 'STEAL TFA', 'fraud', 'robbery', 'Welfare Fraud', 'Stealing Acc',\n",
    "                           'Stealing from uildi', 'strong armed robbery', 'counterfeiting', 'auto theft'])]\n",
    "\n",
    "violent_df_no_weather = total_crime.loc[total_crime[\"Description\"].isin(['Agg Assault - Domest', 'Aggravated Assault (', 'Agg Assault - Drive-', \n",
    "                             'Non Agg Assault Dome', 'Non Aggravated Assau', 'Forcible Sodomy', 'HOMICIDE/Non Neglige',\n",
    "                             'Statutory Rape', 'Sexual Assault with', 'Rape', 'Forcible Fondling', 'NON AGG ASSAULT DV', \n",
    "                             'non agg assault','Hit and Run of a Per', 'Agg Assault Dome', 'agg dv assault', \n",
    "                             'Justifiable Homicide', 'Aggravated Assault'])]\n",
    "\n",
    "non_violent_df_no_weather = total_crime.loc[total_crime[\"Description\"].isin(['Family Offense', 'Misc Violation', \n",
    "                                 'Property Damage', 'Violation Ex Parte O', 'Dead Body', 'Kidnapping/Abduction', \n",
    "                                 'Weapons Law Violatio', 'Wire Fraud', 'Possession/Sale/Dist', 'Possession of Drug E', \n",
    "                                 'Sex Off Fondle - mol', 'Violation Full Order', 'Identity Theft', 'Sex Off Misconduct', \n",
    "                                 'Driving Under Influe', 'Sex Offense -others', 'Interference with Cu', 'Family Disturbance',\n",
    "                                 'Resisting an Officer', 'Sex Off Indecent Con', 'Intimidation', 'Sex Off Follow/Entic',\n",
    "                                 'Sex Off Indecent Exp', 'Missing/Runaway Juve', 'Trespassing', 'Disorderly Conduct',\n",
    "                                 'Stolen Property OFFE', 'Arson', 'Stealing Bicycles', 'Pornography', 'Hacking/Computer Inv',\n",
    "                                 'False Information to', 'Liquor Law Violaton','Bomb Threat/Intimida', 'Extortion/Blackmail', \n",
    "                                 'Impersonation - NOT', 'Forgery', 'Loitering', 'Counterfeiting', 'Peeping Tom', 'Embezzlement',\n",
    "                                 'Promoting Prostituti', 'Prostitution/Solicit', 'Prostitution/Patroni', 'Passing Bad Checks',\n",
    "                                 'Casualty (includes a', 'Stalking', 'False ID', 'Failure to Return', 'Drunkenness', 'forgery', \n",
    "                                 'INTIMIDATE', 'Animal Cruelty', 'disorderly conduct', 'misc off', 'kidnapping', 'Arson with Fire Bomb'\n",
    "                                 'trespassing', 'Misc Viol(2601)', 'Vagrancy', 'broken window', 'property damage', \n",
    "                                 'Human Trafficking/Co', 'Sex Off Incest', 'MISSING PERSON'])]\n",
    "\n",
    "suicide_df_no_weather = total_crime.loc[total_crime[\"Description\"].isin(['Attempt Suicide by O', 'Attempt Suicide by C', 'Attempt Suicide by H', 'Attempt Suicide by S',\n",
    "                             'Attempt Suicide by P', 'Suicide By Sleeping', 'Attempt Suicide by J', 'Suicide By Cutting', 'Attempt Suicide by G', \n",
    "                             'Suicide By Shooting', 'Suicide By Hanging', 'Suicide by Other Mea', 'Suicide - Domestic V'])]"
   ]
  },
  {
   "cell_type": "code",
   "execution_count": 24,
   "metadata": {},
   "outputs": [
    {
     "data": {
      "text/plain": [
       "<function matplotlib.pyplot.show>"
      ]
     },
     "execution_count": 24,
     "metadata": {},
     "output_type": "execute_result"
    },
    {
     "data": {
      "image/png": "[encoded data removed]",
      "text/plain": [
       "<matplotlib.figure.Figure at 0x119174d3ef0>"
      ]
     },
     "metadata": {},
     "output_type": "display_data"
    }
   ],
   "source": [
    "crime_hour_count = merge_df\n",
    "crime_hour_count = crime_hour_count.groupby([\"time\"], as_index=False).count()\n",
    "\n",
    "crime_hour_count[\"Hour\"] = [0, 10, 11, 12, 13, 14, 15, 16, 17, 18, 19, 1, 20, 21, 22, 23,\n",
    "                          2, 3, 4, 5, 6, 7, 8, 9]\n",
    "crime_hour_count = crime_hour_count.sort_values(by=[\"Hour\"])\n",
    "crime_hour_count.reset_index()\n",
    "\n",
    "fig, ax = plt.subplots()\n",
    "merge_count = merge_df\n",
    "merge_count = merge_count.count()\n",
    "per_hour = (merge_count[\"Description\"]/730)/24\n",
    "\n",
    "\n",
    "labels = (\"0:00\", \"1:00\", \"2:00\", \"3:00\", \"4:00\", \"5:00\", \"6:00\", \"7:00\", \"8:00\", \"9:00\", \"10:00\", \"11:00\", \"12:00\", \"13:00\", \"14:00\", \"15:00\", \"16:00\", \"17:00\", \"18:00\", \"19:00\", \"20:00\", \"21:00\", \"22:00\", \"23:00\")\n",
    "\n",
    "x_axis = np.arange(len(crime_hour_count[\"From_Time\"]))\n",
    "plt.gca().yaxis.grid(True)\n",
    "\n",
    "plt.bar(x_axis, (crime_hour_count[\"Description\"]/730), color = \"red\", zorder=3)\n",
    "\n",
    "tick_locations = [value for value in x_axis]\n",
    "plt.xticks(tick_locations, labels)\n",
    "\n",
    "plt.title(\"Average Hourly Crimes Per Day 2016-2017\")\n",
    "ax.axhline(per_hour)\n",
    "plt.ylabel(\"Number of Crimes\")\n",
    "plt.xlabel(\"Time of Day\")\n",
    "\n",
    "text = \"Note: Blue bar represents daily average\"\n",
    "ax.text(33, 14, text, ha='center')\n",
    "\n",
    "plt.xticks(rotation=90)\n",
    "plt.gca().yaxis.grid(True)\n",
    "\n",
    "\n",
    "plt.show"
   ]
  },
  {
   "cell_type": "code",
   "execution_count": 25,
   "metadata": {},
   "outputs": [],
   "source": [
    "bin_merge = total_crime\n",
    "bin_merge.set_index('From_Date', inplace=True)"
   ]
  },
  {
   "cell_type": "code",
   "execution_count": 26,
   "metadata": {},
   "outputs": [
    {
     "data": {
      "text/plain": [
       "<function matplotlib.pyplot.show>"
      ]
     },
     "execution_count": 26,
     "metadata": {},
     "output_type": "execute_result"
    },
    {
     "data": {
      "image/png": "[encoded data removed]",
      "text/plain": [
       "<matplotlib.figure.Figure at 0x11917c0b4a8>"
      ]
     },
     "metadata": {},
     "output_type": "display_data"
    }
   ],
   "source": [
    "bin_merge=bin_merge.groupby([(bin_merge.index.month)]).count()\n",
    "\n",
    "bin_merge[\"month\"] = [0, 1, 2, 3, 4, 5, 6, 7, 8, 9, 10, 11]\n",
    "bin_merge = bin_merge.sort_values(by=[\"month\"])\n",
    "bin_merge.reset_index()\n",
    "\n",
    "labels = (\"Jan.\", \"Feb.\", \"March\", \"April\", \"May\", \"June\", \"July\", \"Aug.\", \"Sep.\", \"Oct.\", \"Nov.\", \"Dec.\")\n",
    "\n",
    "fig, ax = plt.subplots()\n",
    "total_crime_count = total_crime.count()\n",
    "avg_hour_tc = (total_crime_count[\"Description\"]/12)/2\n",
    "\n",
    "x_axis = np.arange(len(bin_merge[\"month\"]))\n",
    "plt.gca().yaxis.grid(True)\n",
    "plt.bar(x_axis, (bin_merge[\"Description\"]/2), color = \"red\", zorder=3)\n",
    "\n",
    "tick_locations = [value for value in x_axis]\n",
    "plt.xticks(tick_locations, labels)\n",
    "\n",
    "\n",
    "plt.title(\"Average Crimes Per Month 2016-2017\")\n",
    "ax.axhline(avg_hour_tc)\n",
    "\n",
    "text = \"Note: Blue bar represents monthly average\"\n",
    "ax.text(16.5, 10650, text, ha='center')\n",
    "\n",
    "plt.ylabel(\"Number of Crimes\")\n",
    "plt.xticks(rotation=90)\n",
    "plt.gca().yaxis.grid(True)\n",
    "\n",
    "plt.show"
   ]
  },
  {
   "cell_type": "code",
   "execution_count": 27,
   "metadata": {},
   "outputs": [
    {
     "data": {
      "text/plain": [
       "<function matplotlib.pyplot.show>"
      ]
     },
     "execution_count": 27,
     "metadata": {},
     "output_type": "execute_result"
    },
    {
     "data": {
      "image/png": "[encoded data removed]",
      "text/plain": [
       "<matplotlib.figure.Figure at 0x11917bf3da0>"
      ]
     },
     "metadata": {},
     "output_type": "display_data"
    }
   ],
   "source": [
    "suicide_bin = suicide_df_no_weather\n",
    "suicide_bin.set_index('From_Date', inplace=True)\n",
    "\n",
    "suicide_bin=suicide_bin.groupby([(suicide_bin.index.month)]).count()\n",
    "\n",
    "suicide_bin[\"month\"] = [0, 1, 2, 3, 4, 5, 6, 7, 8, 9, 10, 11]\n",
    "suicide_bin = suicide_bin.sort_values(by=[\"month\"])\n",
    "suicide_bin.reset_index()\n",
    "\n",
    "fig, ax = plt.subplots()\n",
    "total_suicide = suicide_df_no_weather.count()\n",
    "avg_month_s = (total_suicide[\"Description\"]/12)/2\n",
    "\n",
    "labels = (\"Jan.\", \"Feb.\", \"March\", \"April\", \"May\", \"June\", \"July\", \"Aug.\", \"Sep.\", \"Oct.\", \"Nov.\", \"Dec.\")\n",
    "\n",
    "x_axis = np.arange(len(suicide_bin[\"month\"]))\n",
    "plt.gca().yaxis.grid(True)\n",
    "plt.bar(x_axis, (suicide_bin[\"Description\"]/2), color = \"coral\", zorder=3)\n",
    "\n",
    "tick_locations = [value for value in x_axis]\n",
    "plt.xticks(tick_locations, labels)\n",
    "\n",
    "\n",
    "plt.title(\"Average Suicides Per Month 2016-2017\")\n",
    "ax.axhline(avg_month_s)\n",
    "\n",
    "text = \"Note: Blue bar represents monthly average\"\n",
    "ax.text(16.5, 15.5, text, ha='center')\n",
    "\n",
    "plt.ylabel(\"Number of Suicides\")\n",
    "plt.xlabel(\"Month\")\n",
    "plt.xticks(rotation=90)\n",
    "plt.gca().yaxis.grid(True)\n",
    "\n",
    "plt.show"
   ]
  },
  {
   "cell_type": "code",
   "execution_count": 28,
   "metadata": {},
   "outputs": [
    {
     "data": {
      "text/plain": [
       "<function matplotlib.pyplot.show>"
      ]
     },
     "execution_count": 28,
     "metadata": {},
     "output_type": "execute_result"
    },
    {
     "data": {
      "image/png": "[encoded data removed]",
      "text/plain": [
       "<matplotlib.figure.Figure at 0x11918daa048>"
      ]
     },
     "metadata": {},
     "output_type": "display_data"
    }
   ],
   "source": [
    "theft_bin = theft_df_no_weather\n",
    "theft_bin.set_index('From_Date', inplace=True)\n",
    "\n",
    "theft_bin=theft_bin.groupby([(theft_bin.index.month)]).count()\n",
    "\n",
    "theft_bin[\"month\"] = [0, 1, 2, 3, 4, 5, 6, 7, 8, 9, 10, 11]\n",
    "theft_bin = theft_bin.sort_values(by=[\"month\"])\n",
    "theft_bin.reset_index()\n",
    "\n",
    "fig, ax = plt.subplots()\n",
    "total_theft = theft_df_no_weather.count()\n",
    "total_theft = (total_theft[\"Description\"]/12)/2\n",
    "\n",
    "labels = (\"Jan.\", \"Feb.\", \"March\", \"April\", \"May\", \"June\", \"July\", \"Aug.\", \"Sep.\", \"Oct.\", \"Nov.\", \"Dec.\")\n",
    "\n",
    "x_axis = np.arange(len(theft_bin[\"month\"]))\n",
    "plt.gca().yaxis.grid(True)\n",
    "plt.bar(x_axis, (theft_bin[\"Description\"]/2), color = \"cyan\", zorder=3)\n",
    "\n",
    "tick_locations = [value for value in x_axis]\n",
    "plt.xticks(tick_locations, labels)\n",
    "\n",
    "\n",
    "plt.title(\"Average Theft Crimes Per Month 2016-2017\")\n",
    "ax.axhline(total_theft)\n",
    "plt.ylabel(\"Number of Crimes\")\n",
    "plt.xlabel(\"Month\")\n",
    "text = \"Note: Blue bar represents monthly average\"\n",
    "ax.text(16.5, 4400, text, ha='center')\n",
    "\n",
    "plt.xticks(rotation=90)\n",
    "plt.gca().yaxis.grid(True)\n",
    "\n",
    "plt.show"
   ]
  },
  {
   "cell_type": "code",
   "execution_count": 29,
   "metadata": {},
   "outputs": [
    {
     "data": {
      "text/plain": [
       "<function matplotlib.pyplot.show>"
      ]
     },
     "execution_count": 29,
     "metadata": {},
     "output_type": "execute_result"
    },
    {
     "data": {
      "image/png": "[encoded data removed]",
      "text/plain": [
       "<matplotlib.figure.Figure at 0x11919151c18>"
      ]
     },
     "metadata": {},
     "output_type": "display_data"
    }
   ],
   "source": [
    "violent_bin = violent_df_no_weather\n",
    "violent_bin.set_index('From_Date', inplace=True)\n",
    "\n",
    "violent_bin=violent_bin.groupby([(violent_bin.index.month)]).count()\n",
    "\n",
    "violent_bin[\"month\"] = [0, 1, 2, 3, 4, 5, 6, 7, 8, 9, 10, 11]\n",
    "violent_bin = violent_bin.sort_values(by=[\"month\"])\n",
    "violent_bin.reset_index()\n",
    "\n",
    "labels = (\"Jan.\", \"Feb.\", \"March\", \"April\", \"May\", \"June\", \"July\", \"Aug.\", \"Sep.\", \"Oct.\", \"Nov.\", \"Dec.\")\n",
    "\n",
    "fig, ax = plt.subplots()\n",
    "total_violent = violent_df_no_weather.count()\n",
    "total_violent = (total_violent[\"Description\"]/12)/2\n",
    "\n",
    "x_axis = np.arange(len(violent_bin[\"month\"]))\n",
    "plt.gca().yaxis.grid(True)\n",
    "plt.bar(x_axis, (violent_bin[\"Description\"]/2), color = \"blue\", zorder=3)\n",
    "\n",
    "tick_locations = [value for value in x_axis]\n",
    "plt.xticks(tick_locations, labels)\n",
    "\n",
    "plt.title(\"Average Violent Crimes Per Month 2016-2017\")\n",
    "ax.axhline(total_violent)\n",
    "\n",
    "text = \"Note: Blue bar represents monthly average\"\n",
    "ax.text(16.5, 2250, text, ha='center')\n",
    "plt.ylabel(\"Number of Crimes\")\n",
    "plt.xlabel(\"Month\")\n",
    "plt.xticks(rotation=90)\n",
    "plt.gca().yaxis.grid(True)\n",
    "\n",
    "plt.show"
   ]
  },
  {
   "cell_type": "code",
   "execution_count": 30,
   "metadata": {},
   "outputs": [
    {
     "data": {
      "text/plain": [
       "<function matplotlib.pyplot.show>"
      ]
     },
     "execution_count": 30,
     "metadata": {},
     "output_type": "execute_result"
    },
    {
     "data": {
      "image/png": "[encoded data removed]",
      "text/plain": [
       "<matplotlib.figure.Figure at 0x1191917e5f8>"
      ]
     },
     "metadata": {},
     "output_type": "display_data"
    }
   ],
   "source": [
    "non_violent_bin = non_violent_df_no_weather\n",
    "non_violent_bin.set_index('From_Date', inplace=True)\n",
    "\n",
    "non_violent_bin=non_violent_bin.groupby([(non_violent_bin.index.month)]).count()\n",
    "\n",
    "non_violent_bin[\"month\"] = [0, 1, 2, 3, 4, 5, 6, 7, 8, 9, 10, 11]\n",
    "non_violent_bin = non_violent_bin.sort_values(by=[\"month\"])\n",
    "non_violent_bin.reset_index()\n",
    "\n",
    "fig, ax = plt.subplots()\n",
    "total_nviolent = non_violent_df_no_weather.count()\n",
    "total_nviolent = (total_nviolent[\"Description\"]/12)/2\n",
    "\n",
    "labels = (\"Jan.\", \"Feb.\", \"March\", \"April\", \"May\", \"June\", \"July\", \"Aug.\", \"Sep.\", \"Oct.\", \"Nov.\", \"Dec.\")\n",
    "\n",
    "x_axis = np.arange(len(non_violent_bin[\"month\"]))\n",
    "plt.gca().yaxis.grid(True)\n",
    "plt.bar(x_axis, (non_violent_bin[\"Description\"]/2), color = \"green\", zorder=3)\n",
    "\n",
    "tick_locations = [value for value in x_axis]\n",
    "plt.xticks(tick_locations, labels)\n",
    "\n",
    "text = \"Note: Blue bar represents monthly average\"\n",
    "ax.text(16.5, 3550, text, ha='center')\n",
    "\n",
    "plt.title(\"Average Non-Violent Crimes Per Month 2016-2017\")\n",
    "ax.axhline(total_nviolent)\n",
    "plt.ylabel(\"Number of Crimes\")\n",
    "plt.xlabel(\"Month\")\n",
    "\n",
    "plt.xticks(rotation=90)\n",
    "plt.gca().yaxis.grid(True)\n",
    "\n",
    "plt.show"
   ]
  },
  {
   "cell_type": "code",
   "execution_count": null,
   "metadata": {},
   "outputs": [],
   "source": []
  },
  {
   "cell_type": "code",
   "execution_count": null,
   "metadata": {},
   "outputs": [],
   "source": []
  },
  {
   "cell_type": "code",
   "execution_count": null,
   "metadata": {},
   "outputs": [],
   "source": []
  },
  {
   "cell_type": "code",
   "execution_count": null,
   "metadata": {},
   "outputs": [],
   "source": []
  },
  {
   "cell_type": "code",
   "execution_count": null,
   "metadata": {},
   "outputs": [],
   "source": []
  }
 ],
 "metadata": {
  "kernelspec": {
   "display_name": "Python [default]",
   "language": "python",
   "name": "python3"
  },
  "language_info": {
   "codemirror_mode": {
    "name": "ipython",
    "version": 3
   },
   "file_extension": ".py",
   "mimetype": "text/x-python",
   "name": "python",
   "nbconvert_exporter": "python",
   "pygments_lexer": "ipython3",
   "version": "3.6.4"
  }
 },
 "nbformat": 4,
 "nbformat_minor": 2
}
